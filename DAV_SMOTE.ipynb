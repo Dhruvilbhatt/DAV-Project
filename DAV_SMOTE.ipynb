{
 "cells": [
  {
   "cell_type": "code",
   "execution_count": 105,
   "metadata": {
    "id": "B3jVLHcku3kT"
   },
   "outputs": [],
   "source": [
    "import pandas as pd\n",
    "import numpy as np\n",
    "from sklearn import preprocessing\n",
    "import matplotlib.pyplot as plt \n",
    "plt.rc(\"font\", size=14)\n",
    "from sklearn.linear_model import LogisticRegression\n",
    "from sklearn.model_selection import train_test_split\n",
    "import seaborn as sns\n",
    "sns.set(style=\"white\")\n",
    "sns.set(style=\"whitegrid\", color_codes=True)"
   ]
  },
  {
   "cell_type": "code",
   "execution_count": 106,
   "metadata": {
    "colab": {
     "base_uri": "https://localhost:8080/"
    },
    "id": "FV0XT0Kfyouc",
    "outputId": "e429ac49-c3b3-426e-ba3e-9dd5afa1e036"
   },
   "outputs": [
    {
     "data": {
      "text/html": [
       "<div>\n",
       "<style scoped>\n",
       "    .dataframe tbody tr th:only-of-type {\n",
       "        vertical-align: middle;\n",
       "    }\n",
       "\n",
       "    .dataframe tbody tr th {\n",
       "        vertical-align: top;\n",
       "    }\n",
       "\n",
       "    .dataframe thead th {\n",
       "        text-align: right;\n",
       "    }\n",
       "</style>\n",
       "<table border=\"1\" class=\"dataframe\">\n",
       "  <thead>\n",
       "    <tr style=\"text-align: right;\">\n",
       "      <th></th>\n",
       "      <th>year</th>\n",
       "      <th>songtitle</th>\n",
       "      <th>artistname</th>\n",
       "      <th>songID</th>\n",
       "      <th>artistID</th>\n",
       "      <th>timesignature</th>\n",
       "      <th>timesignature_confidence</th>\n",
       "      <th>loudness</th>\n",
       "      <th>tempo</th>\n",
       "      <th>tempo_confidence</th>\n",
       "      <th>...</th>\n",
       "      <th>timbre_7_max</th>\n",
       "      <th>timbre_8_min</th>\n",
       "      <th>timbre_8_max</th>\n",
       "      <th>timbre_9_min</th>\n",
       "      <th>timbre_9_max</th>\n",
       "      <th>timbre_10_min</th>\n",
       "      <th>timbre_10_max</th>\n",
       "      <th>timbre_11_min</th>\n",
       "      <th>timbre_11_max</th>\n",
       "      <th>Top10</th>\n",
       "    </tr>\n",
       "  </thead>\n",
       "  <tbody>\n",
       "    <tr>\n",
       "      <th>0</th>\n",
       "      <td>2010</td>\n",
       "      <td>This Is the House That Doubt Built</td>\n",
       "      <td>A Day to Remember</td>\n",
       "      <td>SOBGGAB12C5664F054</td>\n",
       "      <td>AROBSHL1187B9AFB01</td>\n",
       "      <td>3</td>\n",
       "      <td>0.853</td>\n",
       "      <td>-4.262</td>\n",
       "      <td>91.525</td>\n",
       "      <td>0.953</td>\n",
       "      <td>...</td>\n",
       "      <td>82.475</td>\n",
       "      <td>-52.025</td>\n",
       "      <td>39.116</td>\n",
       "      <td>-35.368</td>\n",
       "      <td>71.642</td>\n",
       "      <td>-126.440</td>\n",
       "      <td>18.658</td>\n",
       "      <td>-44.770</td>\n",
       "      <td>25.989</td>\n",
       "      <td>0</td>\n",
       "    </tr>\n",
       "    <tr>\n",
       "      <th>1</th>\n",
       "      <td>2010</td>\n",
       "      <td>Sticks &amp; Bricks</td>\n",
       "      <td>A Day to Remember</td>\n",
       "      <td>SOPAQHU1315CD47F31</td>\n",
       "      <td>AROBSHL1187B9AFB01</td>\n",
       "      <td>4</td>\n",
       "      <td>1.000</td>\n",
       "      <td>-4.051</td>\n",
       "      <td>140.048</td>\n",
       "      <td>0.921</td>\n",
       "      <td>...</td>\n",
       "      <td>106.918</td>\n",
       "      <td>-61.320</td>\n",
       "      <td>35.378</td>\n",
       "      <td>-81.928</td>\n",
       "      <td>74.574</td>\n",
       "      <td>-103.808</td>\n",
       "      <td>121.935</td>\n",
       "      <td>-38.892</td>\n",
       "      <td>22.513</td>\n",
       "      <td>0</td>\n",
       "    </tr>\n",
       "    <tr>\n",
       "      <th>2</th>\n",
       "      <td>2010</td>\n",
       "      <td>All I Want</td>\n",
       "      <td>A Day to Remember</td>\n",
       "      <td>SOOIZOU1376E7C6386</td>\n",
       "      <td>AROBSHL1187B9AFB01</td>\n",
       "      <td>4</td>\n",
       "      <td>1.000</td>\n",
       "      <td>-3.571</td>\n",
       "      <td>160.512</td>\n",
       "      <td>0.489</td>\n",
       "      <td>...</td>\n",
       "      <td>80.621</td>\n",
       "      <td>-59.773</td>\n",
       "      <td>45.979</td>\n",
       "      <td>-46.293</td>\n",
       "      <td>59.904</td>\n",
       "      <td>-108.313</td>\n",
       "      <td>33.300</td>\n",
       "      <td>-43.733</td>\n",
       "      <td>25.744</td>\n",
       "      <td>0</td>\n",
       "    </tr>\n",
       "    <tr>\n",
       "      <th>3</th>\n",
       "      <td>2010</td>\n",
       "      <td>It's Complicated</td>\n",
       "      <td>A Day to Remember</td>\n",
       "      <td>SODRYWD1315CD49DBE</td>\n",
       "      <td>AROBSHL1187B9AFB01</td>\n",
       "      <td>4</td>\n",
       "      <td>1.000</td>\n",
       "      <td>-3.815</td>\n",
       "      <td>97.525</td>\n",
       "      <td>0.794</td>\n",
       "      <td>...</td>\n",
       "      <td>96.675</td>\n",
       "      <td>-78.660</td>\n",
       "      <td>41.088</td>\n",
       "      <td>-49.194</td>\n",
       "      <td>95.440</td>\n",
       "      <td>-102.676</td>\n",
       "      <td>46.422</td>\n",
       "      <td>-59.439</td>\n",
       "      <td>37.082</td>\n",
       "      <td>0</td>\n",
       "    </tr>\n",
       "    <tr>\n",
       "      <th>4</th>\n",
       "      <td>2010</td>\n",
       "      <td>2nd Sucks</td>\n",
       "      <td>A Day to Remember</td>\n",
       "      <td>SOICMQB1315CD46EE3</td>\n",
       "      <td>AROBSHL1187B9AFB01</td>\n",
       "      <td>4</td>\n",
       "      <td>0.788</td>\n",
       "      <td>-4.707</td>\n",
       "      <td>140.053</td>\n",
       "      <td>0.286</td>\n",
       "      <td>...</td>\n",
       "      <td>110.332</td>\n",
       "      <td>-56.450</td>\n",
       "      <td>37.555</td>\n",
       "      <td>-48.588</td>\n",
       "      <td>67.570</td>\n",
       "      <td>-52.796</td>\n",
       "      <td>22.888</td>\n",
       "      <td>-50.414</td>\n",
       "      <td>32.758</td>\n",
       "      <td>0</td>\n",
       "    </tr>\n",
       "    <tr>\n",
       "      <th>...</th>\n",
       "      <td>...</td>\n",
       "      <td>...</td>\n",
       "      <td>...</td>\n",
       "      <td>...</td>\n",
       "      <td>...</td>\n",
       "      <td>...</td>\n",
       "      <td>...</td>\n",
       "      <td>...</td>\n",
       "      <td>...</td>\n",
       "      <td>...</td>\n",
       "      <td>...</td>\n",
       "      <td>...</td>\n",
       "      <td>...</td>\n",
       "      <td>...</td>\n",
       "      <td>...</td>\n",
       "      <td>...</td>\n",
       "      <td>...</td>\n",
       "      <td>...</td>\n",
       "      <td>...</td>\n",
       "      <td>...</td>\n",
       "      <td>...</td>\n",
       "    </tr>\n",
       "    <tr>\n",
       "      <th>7569</th>\n",
       "      <td>1990</td>\n",
       "      <td>She's Gone</td>\n",
       "      <td>Y&amp;T</td>\n",
       "      <td>SOSIEQB12A6D4FC59D</td>\n",
       "      <td>ARGQANQ11F50C4769E</td>\n",
       "      <td>4</td>\n",
       "      <td>1.000</td>\n",
       "      <td>-10.197</td>\n",
       "      <td>93.140</td>\n",
       "      <td>0.859</td>\n",
       "      <td>...</td>\n",
       "      <td>38.120</td>\n",
       "      <td>-66.638</td>\n",
       "      <td>50.105</td>\n",
       "      <td>-40.692</td>\n",
       "      <td>43.763</td>\n",
       "      <td>-59.707</td>\n",
       "      <td>49.414</td>\n",
       "      <td>-53.970</td>\n",
       "      <td>68.303</td>\n",
       "      <td>0</td>\n",
       "    </tr>\n",
       "    <tr>\n",
       "      <th>7570</th>\n",
       "      <td>1990</td>\n",
       "      <td>Let It Out</td>\n",
       "      <td>Y&amp;T</td>\n",
       "      <td>SOIGIQI12A6D4FC59E</td>\n",
       "      <td>ARGQANQ11F50C4769E</td>\n",
       "      <td>4</td>\n",
       "      <td>1.000</td>\n",
       "      <td>-12.392</td>\n",
       "      <td>79.858</td>\n",
       "      <td>0.196</td>\n",
       "      <td>...</td>\n",
       "      <td>83.454</td>\n",
       "      <td>-83.707</td>\n",
       "      <td>44.124</td>\n",
       "      <td>-51.628</td>\n",
       "      <td>69.929</td>\n",
       "      <td>-97.153</td>\n",
       "      <td>36.745</td>\n",
       "      <td>-61.243</td>\n",
       "      <td>56.902</td>\n",
       "      <td>0</td>\n",
       "    </tr>\n",
       "    <tr>\n",
       "      <th>7571</th>\n",
       "      <td>1990</td>\n",
       "      <td>Ten Lovers</td>\n",
       "      <td>Y&amp;T</td>\n",
       "      <td>SOLNEQO12A6D4FC59F</td>\n",
       "      <td>ARGQANQ11F50C4769E</td>\n",
       "      <td>4</td>\n",
       "      <td>0.984</td>\n",
       "      <td>-10.304</td>\n",
       "      <td>91.760</td>\n",
       "      <td>0.592</td>\n",
       "      <td>...</td>\n",
       "      <td>103.413</td>\n",
       "      <td>-101.464</td>\n",
       "      <td>36.152</td>\n",
       "      <td>-45.387</td>\n",
       "      <td>48.352</td>\n",
       "      <td>-57.103</td>\n",
       "      <td>67.641</td>\n",
       "      <td>-53.729</td>\n",
       "      <td>65.176</td>\n",
       "      <td>0</td>\n",
       "    </tr>\n",
       "    <tr>\n",
       "      <th>7572</th>\n",
       "      <td>1990</td>\n",
       "      <td>Goin' Off The Deep End</td>\n",
       "      <td>Y&amp;T</td>\n",
       "      <td>SOEMJEP12A58A7E7B5</td>\n",
       "      <td>ARGQANQ11F50C4769E</td>\n",
       "      <td>4</td>\n",
       "      <td>0.907</td>\n",
       "      <td>-9.295</td>\n",
       "      <td>110.907</td>\n",
       "      <td>0.838</td>\n",
       "      <td>...</td>\n",
       "      <td>108.688</td>\n",
       "      <td>-55.893</td>\n",
       "      <td>42.222</td>\n",
       "      <td>-76.631</td>\n",
       "      <td>68.336</td>\n",
       "      <td>-83.284</td>\n",
       "      <td>56.476</td>\n",
       "      <td>-51.687</td>\n",
       "      <td>59.427</td>\n",
       "      <td>0</td>\n",
       "    </tr>\n",
       "    <tr>\n",
       "      <th>7573</th>\n",
       "      <td>1990</td>\n",
       "      <td>Surrender</td>\n",
       "      <td>Y&amp;T</td>\n",
       "      <td>SOLBQSX12A6D4FC5A0</td>\n",
       "      <td>ARGQANQ11F50C4769E</td>\n",
       "      <td>4</td>\n",
       "      <td>0.987</td>\n",
       "      <td>-9.762</td>\n",
       "      <td>139.650</td>\n",
       "      <td>0.781</td>\n",
       "      <td>...</td>\n",
       "      <td>87.098</td>\n",
       "      <td>-48.440</td>\n",
       "      <td>52.198</td>\n",
       "      <td>-60.673</td>\n",
       "      <td>48.418</td>\n",
       "      <td>-120.625</td>\n",
       "      <td>49.593</td>\n",
       "      <td>-47.656</td>\n",
       "      <td>70.005</td>\n",
       "      <td>0</td>\n",
       "    </tr>\n",
       "  </tbody>\n",
       "</table>\n",
       "<p>7574 rows × 39 columns</p>\n",
       "</div>"
      ],
      "text/plain": [
       "      year                           songtitle         artistname  \\\n",
       "0     2010  This Is the House That Doubt Built  A Day to Remember   \n",
       "1     2010                     Sticks & Bricks  A Day to Remember   \n",
       "2     2010                          All I Want  A Day to Remember   \n",
       "3     2010                    It's Complicated  A Day to Remember   \n",
       "4     2010                           2nd Sucks  A Day to Remember   \n",
       "...    ...                                 ...                ...   \n",
       "7569  1990                          She's Gone                Y&T   \n",
       "7570  1990                          Let It Out                Y&T   \n",
       "7571  1990                          Ten Lovers                Y&T   \n",
       "7572  1990              Goin' Off The Deep End                Y&T   \n",
       "7573  1990                           Surrender                Y&T   \n",
       "\n",
       "                  songID            artistID  timesignature  \\\n",
       "0     SOBGGAB12C5664F054  AROBSHL1187B9AFB01              3   \n",
       "1     SOPAQHU1315CD47F31  AROBSHL1187B9AFB01              4   \n",
       "2     SOOIZOU1376E7C6386  AROBSHL1187B9AFB01              4   \n",
       "3     SODRYWD1315CD49DBE  AROBSHL1187B9AFB01              4   \n",
       "4     SOICMQB1315CD46EE3  AROBSHL1187B9AFB01              4   \n",
       "...                  ...                 ...            ...   \n",
       "7569  SOSIEQB12A6D4FC59D  ARGQANQ11F50C4769E              4   \n",
       "7570  SOIGIQI12A6D4FC59E  ARGQANQ11F50C4769E              4   \n",
       "7571  SOLNEQO12A6D4FC59F  ARGQANQ11F50C4769E              4   \n",
       "7572  SOEMJEP12A58A7E7B5  ARGQANQ11F50C4769E              4   \n",
       "7573  SOLBQSX12A6D4FC5A0  ARGQANQ11F50C4769E              4   \n",
       "\n",
       "      timesignature_confidence  loudness    tempo  tempo_confidence  ...  \\\n",
       "0                        0.853    -4.262   91.525             0.953  ...   \n",
       "1                        1.000    -4.051  140.048             0.921  ...   \n",
       "2                        1.000    -3.571  160.512             0.489  ...   \n",
       "3                        1.000    -3.815   97.525             0.794  ...   \n",
       "4                        0.788    -4.707  140.053             0.286  ...   \n",
       "...                        ...       ...      ...               ...  ...   \n",
       "7569                     1.000   -10.197   93.140             0.859  ...   \n",
       "7570                     1.000   -12.392   79.858             0.196  ...   \n",
       "7571                     0.984   -10.304   91.760             0.592  ...   \n",
       "7572                     0.907    -9.295  110.907             0.838  ...   \n",
       "7573                     0.987    -9.762  139.650             0.781  ...   \n",
       "\n",
       "      timbre_7_max  timbre_8_min  timbre_8_max  timbre_9_min  timbre_9_max  \\\n",
       "0           82.475       -52.025        39.116       -35.368        71.642   \n",
       "1          106.918       -61.320        35.378       -81.928        74.574   \n",
       "2           80.621       -59.773        45.979       -46.293        59.904   \n",
       "3           96.675       -78.660        41.088       -49.194        95.440   \n",
       "4          110.332       -56.450        37.555       -48.588        67.570   \n",
       "...            ...           ...           ...           ...           ...   \n",
       "7569        38.120       -66.638        50.105       -40.692        43.763   \n",
       "7570        83.454       -83.707        44.124       -51.628        69.929   \n",
       "7571       103.413      -101.464        36.152       -45.387        48.352   \n",
       "7572       108.688       -55.893        42.222       -76.631        68.336   \n",
       "7573        87.098       -48.440        52.198       -60.673        48.418   \n",
       "\n",
       "      timbre_10_min  timbre_10_max  timbre_11_min  timbre_11_max  Top10  \n",
       "0          -126.440         18.658        -44.770         25.989      0  \n",
       "1          -103.808        121.935        -38.892         22.513      0  \n",
       "2          -108.313         33.300        -43.733         25.744      0  \n",
       "3          -102.676         46.422        -59.439         37.082      0  \n",
       "4           -52.796         22.888        -50.414         32.758      0  \n",
       "...             ...            ...            ...            ...    ...  \n",
       "7569        -59.707         49.414        -53.970         68.303      0  \n",
       "7570        -97.153         36.745        -61.243         56.902      0  \n",
       "7571        -57.103         67.641        -53.729         65.176      0  \n",
       "7572        -83.284         56.476        -51.687         59.427      0  \n",
       "7573       -120.625         49.593        -47.656         70.005      0  \n",
       "\n",
       "[7574 rows x 39 columns]"
      ]
     },
     "execution_count": 106,
     "metadata": {},
     "output_type": "execute_result"
    }
   ],
   "source": [
    "data = pd.read_csv('songs.csv', header = 0, engine='python')\n",
    "data"
   ]
  },
  {
   "cell_type": "code",
   "execution_count": 107,
   "metadata": {
    "colab": {
     "base_uri": "https://localhost:8080/"
    },
    "id": "IGBubCOYy6HT",
    "outputId": "374e0bfd-579c-4df7-fec8-71877b8f4bf0"
   },
   "outputs": [
    {
     "name": "stdout",
     "output_type": "stream",
     "text": [
      "0    6455\n",
      "1    1119\n",
      "Name: Top10, dtype: int64\n"
     ]
    }
   ],
   "source": [
    "print(data['Top10'].value_counts())"
   ]
  },
  {
   "cell_type": "code",
   "execution_count": 108,
   "metadata": {
    "colab": {
     "base_uri": "https://localhost:8080/",
     "height": 317
    },
    "id": "ot2u7PFa0hAR",
    "outputId": "968adbb7-e14a-4ad9-8ffa-968156b0428e"
   },
   "outputs": [
    {
     "data": {
      "image/png": "[encoded data removed]",
      "text/plain": [
       "<Figure size 432x288 with 1 Axes>"
      ]
     },
     "metadata": {},
     "output_type": "display_data"
    },
    {
     "data": {
      "text/plain": [
       "<Figure size 1800x1800 with 0 Axes>"
      ]
     },
     "metadata": {},
     "output_type": "display_data"
    }
   ],
   "source": [
    "sns.countplot(x = 'Top10', data = data, palette = 'hls')\n",
    "plt.title('Total number of songs from the dataset that are a part of the Top 10 Billboard')\n",
    "plt.figure(figsize = (25,25))\n",
    "plt.show()"
   ]
  },
  {
   "cell_type": "code",
   "execution_count": 109,
   "metadata": {
    "colab": {
     "base_uri": "https://localhost:8080/"
    },
    "id": "oW_IL3rP02VR",
    "outputId": "976e951f-2bad-444a-85a7-a4f9e40750d5"
   },
   "outputs": [
    {
     "name": "stdout",
     "output_type": "stream",
     "text": [
      "Percentage of Songs which are not in Top10 Billboard 85.22577237919198\n",
      "Percentage of Songs which are in Top10 Billboard 14.774227620808029\n"
     ]
    }
   ],
   "source": [
    "count_no_bil = len(data[data['Top10']==0])\n",
    "count_bil = len(data[data['Top10']==1])\n",
    "pct_of_no_bil = count_no_bil/(count_no_bil+count_bil)\n",
    "print(\"Percentage of Songs which are not in Top10 Billboard\", pct_of_no_bil*100)\n",
    "pct_of_bil = count_bil/(count_no_bil+count_bil)\n",
    "print(\"Percentage of Songs which are in Top10 Billboard\", pct_of_bil*100)"
   ]
  },
  {
   "cell_type": "code",
   "execution_count": 110,
   "metadata": {
    "colab": {
     "base_uri": "https://localhost:8080/"
    },
    "id": "b9IVpEwP6Tyx",
    "outputId": "6e80c7d6-1d5f-4a12-8b6b-79f38344e178"
   },
   "outputs": [
    {
     "name": "stdout",
     "output_type": "stream",
     "text": [
      "Index(['year', 'songtitle', 'artistname', 'songID', 'artistID',\n",
      "       'timesignature', 'timesignature_confidence', 'loudness', 'tempo',\n",
      "       'tempo_confidence', 'key', 'key_confidence', 'energy', 'pitch',\n",
      "       'timbre_0_min', 'timbre_0_max', 'timbre_1_min', 'timbre_1_max',\n",
      "       'timbre_2_min', 'timbre_2_max', 'timbre_3_min', 'timbre_3_max',\n",
      "       'timbre_4_min', 'timbre_4_max', 'timbre_5_min', 'timbre_5_max',\n",
      "       'timbre_6_min', 'timbre_6_max', 'timbre_7_min', 'timbre_7_max',\n",
      "       'timbre_8_min', 'timbre_8_max', 'timbre_9_min', 'timbre_9_max',\n",
      "       'timbre_10_min', 'timbre_10_max', 'timbre_11_min', 'timbre_11_max',\n",
      "       'Top10'],\n",
      "      dtype='object')\n"
     ]
    }
   ],
   "source": [
    "print(data.columns)"
   ]
  },
  {
   "cell_type": "code",
   "execution_count": 111,
   "metadata": {
    "id": "y_9lcFjcEpxT"
   },
   "outputs": [],
   "source": [
    "data_train = data[data['year'] <=  2009]\n",
    "data_test = data[data['year'] == 2010]"
   ]
  },
  {
   "cell_type": "code",
   "execution_count": 112,
   "metadata": {
    "colab": {
     "base_uri": "https://localhost:8080/"
    },
    "id": "tHA3Yy6iE7V7",
    "outputId": "4dcffaf0-7952-46fd-b98a-0007b0afac6e"
   },
   "outputs": [
    {
     "name": "stdout",
     "output_type": "stream",
     "text": [
      "     year                           songtitle         artistname  \\\n",
      "0    2010  This Is the House That Doubt Built  A Day to Remember   \n",
      "1    2010                     Sticks & Bricks  A Day to Remember   \n",
      "2    2010                          All I Want  A Day to Remember   \n",
      "3    2010                    It's Complicated  A Day to Remember   \n",
      "4    2010                           2nd Sucks  A Day to Remember   \n",
      "..    ...                                 ...                ...   \n",
      "368  2010                All Because of Jesus    Various Artists   \n",
      "369  2010                           Your Name    Various Artists   \n",
      "370  2010                           You Reign    Various Artists   \n",
      "371  2010                    New Song We Sing    Various Artists   \n",
      "372  2010                             BedRock        Young Money   \n",
      "\n",
      "                 songID            artistID  timesignature  \\\n",
      "0    SOBGGAB12C5664F054  AROBSHL1187B9AFB01              3   \n",
      "1    SOPAQHU1315CD47F31  AROBSHL1187B9AFB01              4   \n",
      "2    SOOIZOU1376E7C6386  AROBSHL1187B9AFB01              4   \n",
      "3    SODRYWD1315CD49DBE  AROBSHL1187B9AFB01              4   \n",
      "4    SOICMQB1315CD46EE3  AROBSHL1187B9AFB01              4   \n",
      "..                  ...                 ...            ...   \n",
      "368  SOQNGML13DC8B9A8A5  ARAGWS81187FB3F768              4   \n",
      "369  SOXGDEA1375A1AD2F8  ARAGWS81187FB3F768              4   \n",
      "370  SOEHNSK13DC4A18344  ARAGWS81187FB3F768              4   \n",
      "371  SOQOCRO13DC469AD34  ARAGWS81187FB3F768              4   \n",
      "372  SOPQHEH1374011CFB8  ARFNQBX122BCFCC40F              4   \n",
      "\n",
      "     timesignature_confidence  loudness    tempo  tempo_confidence  ...  \\\n",
      "0                       0.853    -4.262   91.525             0.953  ...   \n",
      "1                       1.000    -4.051  140.048             0.921  ...   \n",
      "2                       1.000    -3.571  160.512             0.489  ...   \n",
      "3                       1.000    -3.815   97.525             0.794  ...   \n",
      "4                       0.788    -4.707  140.053             0.286  ...   \n",
      "..                        ...       ...      ...               ...  ...   \n",
      "368                     0.851    -6.896  132.014             0.897  ...   \n",
      "369                     0.937    -7.695   79.990             0.345  ...   \n",
      "370                     0.581   -13.761   75.019             0.171  ...   \n",
      "371                     0.869   -12.884  120.074             0.710  ...   \n",
      "372                     0.230    -5.860  148.328             0.266  ...   \n",
      "\n",
      "     timbre_7_max  timbre_8_min  timbre_8_max  timbre_9_min  timbre_9_max  \\\n",
      "0          82.475       -52.025        39.116       -35.368        71.642   \n",
      "1         106.918       -61.320        35.378       -81.928        74.574   \n",
      "2          80.621       -59.773        45.979       -46.293        59.904   \n",
      "3          96.675       -78.660        41.088       -49.194        95.440   \n",
      "4         110.332       -56.450        37.555       -48.588        67.570   \n",
      "..            ...           ...           ...           ...           ...   \n",
      "368       122.253       -50.909        61.278       -65.765        61.128   \n",
      "369        91.915       -78.383        29.942       -62.093        47.771   \n",
      "370       100.910      -100.195        50.555       -64.052        60.195   \n",
      "371        99.038       -53.112        42.895       -64.875        99.467   \n",
      "372        88.488       -70.974        51.550       -51.106        85.348   \n",
      "\n",
      "     timbre_10_min  timbre_10_max  timbre_11_min  timbre_11_max  Top10  \n",
      "0         -126.440         18.658        -44.770         25.989      0  \n",
      "1         -103.808        121.935        -38.892         22.513      0  \n",
      "2         -108.313         33.300        -43.733         25.744      0  \n",
      "3         -102.676         46.422        -59.439         37.082      0  \n",
      "4          -52.796         22.888        -50.414         32.758      0  \n",
      "..             ...            ...            ...            ...    ...  \n",
      "368        -54.461         32.120        -46.549         32.486      0  \n",
      "369        -49.670         51.155        -44.724         41.997      0  \n",
      "370        -83.234         51.323        -59.022         63.993      0  \n",
      "371       -111.697         49.754        -39.289         69.057      0  \n",
      "372        -84.959         74.872        -57.014         51.651      1  \n",
      "\n",
      "[373 rows x 39 columns]\n"
     ]
    }
   ],
   "source": [
    "print(data_test)"
   ]
  },
  {
   "cell_type": "code",
   "execution_count": 113,
   "metadata": {
    "colab": {
     "base_uri": "https://localhost:8080/"
    },
    "id": "pAGHWnziE9jb",
    "outputId": "0504c4d5-85aa-45c0-ebac-e037291b399e"
   },
   "outputs": [
    {
     "name": "stdout",
     "output_type": "stream",
     "text": [
      "      year               songtitle artistname              songID  \\\n",
      "373   2009     The Awkward Goodbye    Athlete  SOUALGK12AB017FC37   \n",
      "374   2009            Rubik's Cube    Athlete  SOGPIQC12AB0182B15   \n",
      "375   2009        Superhuman Touch    Athlete  SOBNYZN13774E81F76   \n",
      "376   2009             The Getaway    Athlete  SOHFEOA1366EE931DD   \n",
      "377   2009         Black Swan Song    Athlete  SOXXSMX12AB017F7B3   \n",
      "...    ...                     ...        ...                 ...   \n",
      "7569  1990              She's Gone        Y&T  SOSIEQB12A6D4FC59D   \n",
      "7570  1990              Let It Out        Y&T  SOIGIQI12A6D4FC59E   \n",
      "7571  1990              Ten Lovers        Y&T  SOLNEQO12A6D4FC59F   \n",
      "7572  1990  Goin' Off The Deep End        Y&T  SOEMJEP12A58A7E7B5   \n",
      "7573  1990               Surrender        Y&T  SOLBQSX12A6D4FC5A0   \n",
      "\n",
      "                artistID  timesignature  timesignature_confidence  loudness  \\\n",
      "373   ARDW3YJ1187FB4CCE5              3                     0.732    -6.320   \n",
      "374   ARDW3YJ1187FB4CCE5              3                     0.906    -9.541   \n",
      "375   ARDW3YJ1187FB4CCE5              4                     0.987    -4.842   \n",
      "376   ARDW3YJ1187FB4CCE5              4                     0.822    -5.272   \n",
      "377   ARDW3YJ1187FB4CCE5              4                     0.983    -6.233   \n",
      "...                  ...            ...                       ...       ...   \n",
      "7569  ARGQANQ11F50C4769E              4                     1.000   -10.197   \n",
      "7570  ARGQANQ11F50C4769E              4                     1.000   -12.392   \n",
      "7571  ARGQANQ11F50C4769E              4                     0.984   -10.304   \n",
      "7572  ARGQANQ11F50C4769E              4                     0.907    -9.295   \n",
      "7573  ARGQANQ11F50C4769E              4                     0.987    -9.762   \n",
      "\n",
      "        tempo  tempo_confidence  ...  timbre_7_max  timbre_8_min  \\\n",
      "373    89.614             0.652  ...        70.975       -71.776   \n",
      "374   117.742             0.542  ...       112.879       -64.470   \n",
      "375   119.018             0.838  ...        90.400       -52.459   \n",
      "376    71.479             0.613  ...        93.373       -55.811   \n",
      "377    77.492             0.740  ...       100.766       -61.392   \n",
      "...       ...               ...  ...           ...           ...   \n",
      "7569   93.140             0.859  ...        38.120       -66.638   \n",
      "7570   79.858             0.196  ...        83.454       -83.707   \n",
      "7571   91.760             0.592  ...       103.413      -101.464   \n",
      "7572  110.907             0.838  ...       108.688       -55.893   \n",
      "7573  139.650             0.781  ...        87.098       -48.440   \n",
      "\n",
      "      timbre_8_max  timbre_9_min  timbre_9_max  timbre_10_min  timbre_10_max  \\\n",
      "373         58.432       -53.816        88.571        -89.816         38.026   \n",
      "374         58.086       -76.937        74.441        -88.244         42.209   \n",
      "375         40.679       -50.408        58.811        -78.239         35.264   \n",
      "376         78.963       -51.504        70.455        -74.928         30.839   \n",
      "377         50.309       -62.994        96.837        -90.397         60.549   \n",
      "...            ...           ...           ...            ...            ...   \n",
      "7569        50.105       -40.692        43.763        -59.707         49.414   \n",
      "7570        44.124       -51.628        69.929        -97.153         36.745   \n",
      "7571        36.152       -45.387        48.352        -57.103         67.641   \n",
      "7572        42.222       -76.631        68.336        -83.284         56.476   \n",
      "7573        52.198       -60.673        48.418       -120.625         49.593   \n",
      "\n",
      "      timbre_11_min  timbre_11_max  Top10  \n",
      "373         -52.075         52.827      0  \n",
      "374         -66.812         40.749      0  \n",
      "375         -54.200         46.490      0  \n",
      "376         -51.377         27.768      0  \n",
      "377         -52.122         48.059      0  \n",
      "...             ...            ...    ...  \n",
      "7569        -53.970         68.303      0  \n",
      "7570        -61.243         56.902      0  \n",
      "7571        -53.729         65.176      0  \n",
      "7572        -51.687         59.427      0  \n",
      "7573        -47.656         70.005      0  \n",
      "\n",
      "[7201 rows x 39 columns]\n"
     ]
    }
   ],
   "source": [
    "print(data_train)"
   ]
  },
  {
   "cell_type": "code",
   "execution_count": 114,
   "metadata": {
    "colab": {
     "base_uri": "https://localhost:8080/"
    },
    "id": "KPZG0gtfFq54",
    "outputId": "965fa54d-77d1-46ed-cad0-078980961f71"
   },
   "outputs": [
    {
     "name": "stdout",
     "output_type": "stream",
     "text": [
      "Index(['timesignature', 'timesignature_confidence', 'loudness', 'tempo',\n",
      "       'tempo_confidence', 'key', 'key_confidence', 'energy', 'pitch',\n",
      "       'timbre_0_min', 'timbre_0_max', 'timbre_1_min', 'timbre_1_max',\n",
      "       'timbre_2_min', 'timbre_2_max', 'timbre_3_min', 'timbre_3_max',\n",
      "       'timbre_4_min', 'timbre_4_max', 'timbre_5_min', 'timbre_5_max',\n",
      "       'timbre_6_min', 'timbre_6_max', 'timbre_7_min', 'timbre_7_max',\n",
      "       'timbre_8_min', 'timbre_8_max', 'timbre_9_min', 'timbre_9_max',\n",
      "       'timbre_10_min', 'timbre_10_max', 'timbre_11_min', 'timbre_11_max',\n",
      "       'Top10'],\n",
      "      dtype='object')\n"
     ]
    }
   ],
   "source": [
    "data_train.pop(\"year\")\n",
    "data_train.pop(\"songtitle\")\n",
    "data_train.pop(\"artistname\")\n",
    "data_train.pop(\"songID\")\n",
    "data_train.pop(\"artistID\")\n",
    "print(data_train.columns)"
   ]
  },
  {
   "cell_type": "code",
   "execution_count": 115,
   "metadata": {
    "colab": {
     "base_uri": "https://localhost:8080/"
    },
    "id": "G-HzDM3-ozK-",
    "outputId": "cda86878-4d48-4655-e032-97541010b449"
   },
   "outputs": [
    {
     "name": "stdout",
     "output_type": "stream",
     "text": [
      "Index(['timesignature', 'timesignature_confidence', 'loudness', 'tempo',\n",
      "       'tempo_confidence', 'key', 'key_confidence', 'energy', 'pitch',\n",
      "       'timbre_0_min', 'timbre_0_max', 'timbre_1_min', 'timbre_1_max',\n",
      "       'timbre_2_min', 'timbre_2_max', 'timbre_3_min', 'timbre_3_max',\n",
      "       'timbre_4_min', 'timbre_4_max', 'timbre_5_min', 'timbre_5_max',\n",
      "       'timbre_6_min', 'timbre_6_max', 'timbre_7_min', 'timbre_7_max',\n",
      "       'timbre_8_min', 'timbre_8_max', 'timbre_9_min', 'timbre_9_max',\n",
      "       'timbre_10_min', 'timbre_10_max', 'timbre_11_min', 'timbre_11_max',\n",
      "       'Top10'],\n",
      "      dtype='object')\n"
     ]
    }
   ],
   "source": [
    "data_test.pop(\"year\")\n",
    "data_test.pop(\"songtitle\")\n",
    "data_test.pop(\"artistname\")\n",
    "data_test.pop(\"songID\")\n",
    "data_test.pop(\"artistID\")\n",
    "print(data_test.columns)"
   ]
  },
  {
   "cell_type": "code",
   "execution_count": 116,
   "metadata": {
    "colab": {
     "base_uri": "https://localhost:8080/"
    },
    "id": "zEOyixqeuUtW",
    "outputId": "50d0eaad-b7c1-498d-953c-131c1bae1ff8"
   },
   "outputs": [
    {
     "name": "stdout",
     "output_type": "stream",
     "text": [
      "Index(['timesignature', 'timesignature_confidence', 'loudness', 'tempo',\n",
      "       'tempo_confidence', 'key', 'key_confidence', 'energy', 'pitch',\n",
      "       'timbre_0_min', 'timbre_0_max', 'timbre_1_min', 'timbre_1_max',\n",
      "       'timbre_2_min', 'timbre_2_max', 'timbre_3_min', 'timbre_3_max',\n",
      "       'timbre_4_min', 'timbre_4_max', 'timbre_5_min', 'timbre_5_max',\n",
      "       'timbre_6_min', 'timbre_6_max', 'timbre_7_min', 'timbre_7_max',\n",
      "       'timbre_8_min', 'timbre_8_max', 'timbre_9_min', 'timbre_9_max',\n",
      "       'timbre_10_min', 'timbre_10_max', 'timbre_11_min', 'timbre_11_max',\n",
      "       'Top10'],\n",
      "      dtype='object')\n"
     ]
    }
   ],
   "source": [
    "data.pop(\"year\")\n",
    "data.pop(\"songtitle\")\n",
    "data.pop(\"artistname\")\n",
    "data.pop(\"songID\")\n",
    "data.pop(\"artistID\")\n",
    "print(data.columns)"
   ]
  },
  {
   "cell_type": "code",
   "execution_count": 117,
   "metadata": {
    "scrolled": true
   },
   "outputs": [
    {
     "data": {
      "text/html": [
       "<div>\n",
       "<style scoped>\n",
       "    .dataframe tbody tr th:only-of-type {\n",
       "        vertical-align: middle;\n",
       "    }\n",
       "\n",
       "    .dataframe tbody tr th {\n",
       "        vertical-align: top;\n",
       "    }\n",
       "\n",
       "    .dataframe thead th {\n",
       "        text-align: right;\n",
       "    }\n",
       "</style>\n",
       "<table border=\"1\" class=\"dataframe\">\n",
       "  <thead>\n",
       "    <tr style=\"text-align: right;\">\n",
       "      <th></th>\n",
       "      <th>timesignature</th>\n",
       "      <th>timesignature_confidence</th>\n",
       "      <th>loudness</th>\n",
       "      <th>tempo</th>\n",
       "      <th>tempo_confidence</th>\n",
       "      <th>key</th>\n",
       "      <th>key_confidence</th>\n",
       "      <th>energy</th>\n",
       "      <th>pitch</th>\n",
       "      <th>timbre_0_min</th>\n",
       "      <th>...</th>\n",
       "      <th>timbre_7_min</th>\n",
       "      <th>timbre_7_max</th>\n",
       "      <th>timbre_8_min</th>\n",
       "      <th>timbre_8_max</th>\n",
       "      <th>timbre_9_min</th>\n",
       "      <th>timbre_9_max</th>\n",
       "      <th>timbre_10_min</th>\n",
       "      <th>timbre_10_max</th>\n",
       "      <th>timbre_11_min</th>\n",
       "      <th>timbre_11_max</th>\n",
       "    </tr>\n",
       "    <tr>\n",
       "      <th>Top10</th>\n",
       "      <th></th>\n",
       "      <th></th>\n",
       "      <th></th>\n",
       "      <th></th>\n",
       "      <th></th>\n",
       "      <th></th>\n",
       "      <th></th>\n",
       "      <th></th>\n",
       "      <th></th>\n",
       "      <th></th>\n",
       "      <th></th>\n",
       "      <th></th>\n",
       "      <th></th>\n",
       "      <th></th>\n",
       "      <th></th>\n",
       "      <th></th>\n",
       "      <th></th>\n",
       "      <th></th>\n",
       "      <th></th>\n",
       "      <th></th>\n",
       "      <th></th>\n",
       "    </tr>\n",
       "  </thead>\n",
       "  <tbody>\n",
       "    <tr>\n",
       "      <th>0</th>\n",
       "      <td>3.884586</td>\n",
       "      <td>0.847137</td>\n",
       "      <td>-8.657539</td>\n",
       "      <td>107.374397</td>\n",
       "      <td>0.612104</td>\n",
       "      <td>5.341286</td>\n",
       "      <td>0.432682</td>\n",
       "      <td>0.687330</td>\n",
       "      <td>0.011600</td>\n",
       "      <td>3.820087</td>\n",
       "      <td>...</td>\n",
       "      <td>-82.518146</td>\n",
       "      <td>95.192264</td>\n",
       "      <td>-63.043306</td>\n",
       "      <td>49.075552</td>\n",
       "      <td>-58.892488</td>\n",
       "      <td>66.768875</td>\n",
       "      <td>-87.318254</td>\n",
       "      <td>54.485526</td>\n",
       "      <td>-49.921841</td>\n",
       "      <td>46.730359</td>\n",
       "    </tr>\n",
       "    <tr>\n",
       "      <th>1</th>\n",
       "      <td>3.948168</td>\n",
       "      <td>0.888900</td>\n",
       "      <td>-9.738632</td>\n",
       "      <td>107.197535</td>\n",
       "      <td>0.684950</td>\n",
       "      <td>5.634495</td>\n",
       "      <td>0.440539</td>\n",
       "      <td>0.607062</td>\n",
       "      <td>0.006298</td>\n",
       "      <td>5.868760</td>\n",
       "      <td>...</td>\n",
       "      <td>-94.663714</td>\n",
       "      <td>98.312272</td>\n",
       "      <td>-67.515134</td>\n",
       "      <td>55.721831</td>\n",
       "      <td>-63.106097</td>\n",
       "      <td>75.291767</td>\n",
       "      <td>-87.465813</td>\n",
       "      <td>61.492297</td>\n",
       "      <td>-56.329054</td>\n",
       "      <td>51.877264</td>\n",
       "    </tr>\n",
       "  </tbody>\n",
       "</table>\n",
       "<p>2 rows × 33 columns</p>\n",
       "</div>"
      ],
      "text/plain": [
       "       timesignature  timesignature_confidence  loudness       tempo  \\\n",
       "Top10                                                                  \n",
       "0           3.884586                  0.847137 -8.657539  107.374397   \n",
       "1           3.948168                  0.888900 -9.738632  107.197535   \n",
       "\n",
       "       tempo_confidence       key  key_confidence    energy     pitch  \\\n",
       "Top10                                                                   \n",
       "0              0.612104  5.341286        0.432682  0.687330  0.011600   \n",
       "1              0.684950  5.634495        0.440539  0.607062  0.006298   \n",
       "\n",
       "       timbre_0_min  ...  timbre_7_min  timbre_7_max  timbre_8_min  \\\n",
       "Top10                ...                                             \n",
       "0          3.820087  ...    -82.518146     95.192264    -63.043306   \n",
       "1          5.868760  ...    -94.663714     98.312272    -67.515134   \n",
       "\n",
       "       timbre_8_max  timbre_9_min  timbre_9_max  timbre_10_min  timbre_10_max  \\\n",
       "Top10                                                                           \n",
       "0         49.075552    -58.892488     66.768875     -87.318254      54.485526   \n",
       "1         55.721831    -63.106097     75.291767     -87.465813      61.492297   \n",
       "\n",
       "       timbre_11_min  timbre_11_max  \n",
       "Top10                                \n",
       "0         -49.921841      46.730359  \n",
       "1         -56.329054      51.877264  \n",
       "\n",
       "[2 rows x 33 columns]"
      ]
     },
     "execution_count": 117,
     "metadata": {},
     "output_type": "execute_result"
    }
   ],
   "source": [
    "data.groupby('Top10').mean()"
   ]
  },
  {
   "cell_type": "code",
   "execution_count": 118,
   "metadata": {},
   "outputs": [
    {
     "data": {
      "text/html": [
       "<div>\n",
       "<style scoped>\n",
       "    .dataframe tbody tr th:only-of-type {\n",
       "        vertical-align: middle;\n",
       "    }\n",
       "\n",
       "    .dataframe tbody tr th {\n",
       "        vertical-align: top;\n",
       "    }\n",
       "\n",
       "    .dataframe thead th {\n",
       "        text-align: right;\n",
       "    }\n",
       "</style>\n",
       "<table border=\"1\" class=\"dataframe\">\n",
       "  <thead>\n",
       "    <tr style=\"text-align: right;\">\n",
       "      <th></th>\n",
       "      <th>timesignature</th>\n",
       "      <th>timesignature_confidence</th>\n",
       "      <th>loudness</th>\n",
       "      <th>tempo</th>\n",
       "      <th>tempo_confidence</th>\n",
       "      <th>key</th>\n",
       "      <th>key_confidence</th>\n",
       "      <th>energy</th>\n",
       "      <th>pitch</th>\n",
       "      <th>timbre_0_min</th>\n",
       "      <th>...</th>\n",
       "      <th>timbre_7_min</th>\n",
       "      <th>timbre_7_max</th>\n",
       "      <th>timbre_8_min</th>\n",
       "      <th>timbre_8_max</th>\n",
       "      <th>timbre_9_min</th>\n",
       "      <th>timbre_9_max</th>\n",
       "      <th>timbre_10_min</th>\n",
       "      <th>timbre_10_max</th>\n",
       "      <th>timbre_11_min</th>\n",
       "      <th>timbre_11_max</th>\n",
       "    </tr>\n",
       "    <tr>\n",
       "      <th>Top10</th>\n",
       "      <th></th>\n",
       "      <th></th>\n",
       "      <th></th>\n",
       "      <th></th>\n",
       "      <th></th>\n",
       "      <th></th>\n",
       "      <th></th>\n",
       "      <th></th>\n",
       "      <th></th>\n",
       "      <th></th>\n",
       "      <th></th>\n",
       "      <th></th>\n",
       "      <th></th>\n",
       "      <th></th>\n",
       "      <th></th>\n",
       "      <th></th>\n",
       "      <th></th>\n",
       "      <th></th>\n",
       "      <th></th>\n",
       "      <th></th>\n",
       "      <th></th>\n",
       "    </tr>\n",
       "  </thead>\n",
       "  <tbody>\n",
       "    <tr>\n",
       "      <th>0</th>\n",
       "      <td>0.295478</td>\n",
       "      <td>0.061134</td>\n",
       "      <td>18.258560</td>\n",
       "      <td>621.896447</td>\n",
       "      <td>0.093758</td>\n",
       "      <td>12.684405</td>\n",
       "      <td>0.075514</td>\n",
       "      <td>0.060585</td>\n",
       "      <td>0.000208</td>\n",
       "      <td>67.837864</td>\n",
       "      <td>...</td>\n",
       "      <td>775.701318</td>\n",
       "      <td>738.510610</td>\n",
       "      <td>256.691602</td>\n",
       "      <td>201.860343</td>\n",
       "      <td>304.565159</td>\n",
       "      <td>411.883160</td>\n",
       "      <td>966.057868</td>\n",
       "      <td>557.318220</td>\n",
       "      <td>132.253883</td>\n",
       "      <td>153.861985</td>\n",
       "    </tr>\n",
       "    <tr>\n",
       "      <th>1</th>\n",
       "      <td>0.211980</td>\n",
       "      <td>0.048042</td>\n",
       "      <td>23.375995</td>\n",
       "      <td>530.759169</td>\n",
       "      <td>0.082930</td>\n",
       "      <td>13.156984</td>\n",
       "      <td>0.071920</td>\n",
       "      <td>0.046296</td>\n",
       "      <td>0.000041</td>\n",
       "      <td>95.412838</td>\n",
       "      <td>...</td>\n",
       "      <td>714.220582</td>\n",
       "      <td>615.269336</td>\n",
       "      <td>228.734569</td>\n",
       "      <td>214.033216</td>\n",
       "      <td>228.384232</td>\n",
       "      <td>374.098627</td>\n",
       "      <td>709.598356</td>\n",
       "      <td>497.374263</td>\n",
       "      <td>128.999928</td>\n",
       "      <td>141.484925</td>\n",
       "    </tr>\n",
       "  </tbody>\n",
       "</table>\n",
       "<p>2 rows × 33 columns</p>\n",
       "</div>"
      ],
      "text/plain": [
       "       timesignature  timesignature_confidence   loudness       tempo  \\\n",
       "Top10                                                                   \n",
       "0           0.295478                  0.061134  18.258560  621.896447   \n",
       "1           0.211980                  0.048042  23.375995  530.759169   \n",
       "\n",
       "       tempo_confidence        key  key_confidence    energy     pitch  \\\n",
       "Top10                                                                    \n",
       "0              0.093758  12.684405        0.075514  0.060585  0.000208   \n",
       "1              0.082930  13.156984        0.071920  0.046296  0.000041   \n",
       "\n",
       "       timbre_0_min  ...  timbre_7_min  timbre_7_max  timbre_8_min  \\\n",
       "Top10                ...                                             \n",
       "0         67.837864  ...    775.701318    738.510610    256.691602   \n",
       "1         95.412838  ...    714.220582    615.269336    228.734569   \n",
       "\n",
       "       timbre_8_max  timbre_9_min  timbre_9_max  timbre_10_min  timbre_10_max  \\\n",
       "Top10                                                                           \n",
       "0        201.860343    304.565159    411.883160     966.057868     557.318220   \n",
       "1        214.033216    228.384232    374.098627     709.598356     497.374263   \n",
       "\n",
       "       timbre_11_min  timbre_11_max  \n",
       "Top10                                \n",
       "0         132.253883     153.861985  \n",
       "1         128.999928     141.484925  \n",
       "\n",
       "[2 rows x 33 columns]"
      ]
     },
     "execution_count": 118,
     "metadata": {},
     "output_type": "execute_result"
    }
   ],
   "source": [
    "data.groupby('Top10').var()"
   ]
  },
  {
   "cell_type": "markdown",
   "metadata": {},
   "source": [
    "Observations:\n",
    "1. Time signature nearer to 4/4 is morel likely to reach top10\n",
    "2. Greater the loudness, higher the chances.\n",
    "3. Lesser the complexity, more will be the confidence, and higher its values"
   ]
  },
  {
   "cell_type": "code",
   "execution_count": 119,
   "metadata": {},
   "outputs": [
    {
     "data": {
      "text/plain": [
       "Text(0, 0.5, 'Proportion of songs in Top10')"
      ]
     },
     "execution_count": 119,
     "metadata": {},
     "output_type": "execute_result"
    },
    {
     "data": {
      "image/png": "[encoded data removed]",
      "text/plain": [
       "<Figure size 432x288 with 1 Axes>"
      ]
     },
     "metadata": {},
     "output_type": "display_data"
    }
   ],
   "source": [
    "table=pd.crosstab(data['timesignature'],data['Top10'])\n",
    "table.div(table.sum(1).astype(float), axis=0).plot(kind='bar', stacked=True)\n",
    "plt.title('Stacked Bar Chart of TimeSignature')\n",
    "plt.xlabel('TimeSignature')\n",
    "plt.ylabel('Proportion of songs in Top10')\n"
   ]
  },
  {
   "cell_type": "code",
   "execution_count": 98,
   "metadata": {},
   "outputs": [
    {
     "data": {
      "image/png": "[encoded data removed]",
      "text/plain": [
       "<Figure size 432x288 with 1 Axes>"
      ]
     },
     "metadata": {},
     "output_type": "display_data"
    }
   ],
   "source": [
    "data['loudness'].hist()\n",
    "plt.title('Histogram of Age')\n",
    "plt.xlabel('Age')\n",
    "plt.ylabel('Frequency')\n",
    "plt.savefig('hist_age')\n"
   ]
  },
  {
   "cell_type": "code",
   "execution_count": 152,
   "metadata": {},
   "outputs": [
    {
     "data": {
      "image/png": "[encoded data removed]",
      "text/plain": [
       "<Figure size 432x288 with 1 Axes>"
      ]
     },
     "metadata": {},
     "output_type": "display_data"
    }
   ],
   "source": [
    "table=pd.crosstab(data['key'],data['Top10'])\n",
    "table.div(table.sum(1).astype(float), axis=0).plot(kind='bar', stacked=True)\n",
    "plt.title('Stacked Bar Chart Key')\n",
    "plt.xlabel('Key')\n",
    "plt.ylabel('Proportion of Songs in Top10')"
   ]
  },
  {
   "cell_type": "markdown",
   "metadata": {},
   "source": [
    "No impact of keys"
   ]
  },
  {
   "cell_type": "code",
   "execution_count": 142,
   "metadata": {
    "colab": {
     "base_uri": "https://localhost:8080/"
    },
    "id": "JNk3y9m6pmJJ",
    "outputId": "e72285e2-46c6-4746-8a43-a37dbde8c8c8"
   },
   "outputs": [
    {
     "name": "stdout",
     "output_type": "stream",
     "text": [
      "length of oversampled data is  9706\n",
      "Number of Songs not in Top10 Billboard in oversampled data 4853\n",
      "Number of Songs in Top10 Billboard 4853\n",
      "Proportion of Songs not in Top10 Billboard in oversampled data is  0.5\n",
      "Proportion of Songs in Top10 Billboard in oversampled data is  0.5\n"
     ]
    }
   ],
   "source": [
    "X = data.loc[:, data.columns != 'Top10']\n",
    "y = data.loc[:, data.columns == 'Top10']\n",
    "from imblearn.over_sampling import SMOTE\n",
    "os = SMOTE(random_state=0)\n",
    "X_train, X_test, y_train, y_test = train_test_split(X, y, test_size=0.25, random_state=0)\n",
    "columns = X_train.columns\n",
    "os_data_X,os_data_y=os.fit_resample(X_train, y_train)\n",
    "os_data_X = pd.DataFrame(data=os_data_X,columns=columns )\n",
    "os_data_y= pd.DataFrame(data=os_data_y,columns=['Top10'])\n",
    "# we can Check the numbers of our data\n",
    "print(\"length of oversampled data is \",len(os_data_X))\n",
    "print(\"Number of Songs not in Top10 Billboard in oversampled data\",len(os_data_y[os_data_y['Top10']==0]))\n",
    "print(\"Number of Songs in Top10 Billboard\",len(os_data_y[os_data_y['Top10']==1]))\n",
    "print(\"Proportion of Songs not in Top10 Billboard in oversampled data is \",len(os_data_y[os_data_y['Top10']==0])/len(os_data_X))\n",
    "print(\"Proportion of Songs in Top10 Billboard in oversampled data is \",len(os_data_y[os_data_y['Top10']==1])/len(os_data_X))"
   ]
  },
  {
   "cell_type": "code",
   "execution_count": 143,
   "metadata": {
    "colab": {
     "base_uri": "https://localhost:8080/"
    },
    "id": "x9ZY5QXatzuG",
    "outputId": "6408cd7e-8899-4b22-8719-d599434bc102"
   },
   "outputs": [
    {
     "name": "stderr",
     "output_type": "stream",
     "text": [
      "c:\\users\\admin\\appdata\\local\\programs\\python\\python38-32\\lib\\site-packages\\sklearn\\utils\\validation.py:70: FutureWarning: Pass n_features_to_select=20 as keyword args. From version 1.0 (renaming of 0.25) passing these as positional arguments will result in an error\n",
      "  warnings.warn(f\"Pass {args_msg} as keyword args. From version \"\n",
      "c:\\users\\admin\\appdata\\local\\programs\\python\\python38-32\\lib\\site-packages\\sklearn\\linear_model\\_logistic.py:763: ConvergenceWarning: lbfgs failed to converge (status=1):\n",
      "STOP: TOTAL NO. of ITERATIONS REACHED LIMIT.\n",
      "\n",
      "Increase the number of iterations (max_iter) or scale the data as shown in:\n",
      "    https://scikit-learn.org/stable/modules/preprocessing.html\n",
      "Please also refer to the documentation for alternative solver options:\n",
      "    https://scikit-learn.org/stable/modules/linear_model.html#logistic-regression\n",
      "  n_iter_i = _check_optimize_result(\n",
      "c:\\users\\admin\\appdata\\local\\programs\\python\\python38-32\\lib\\site-packages\\sklearn\\linear_model\\_logistic.py:763: ConvergenceWarning: lbfgs failed to converge (status=1):\n",
      "STOP: TOTAL NO. of ITERATIONS REACHED LIMIT.\n",
      "\n",
      "Increase the number of iterations (max_iter) or scale the data as shown in:\n",
      "    https://scikit-learn.org/stable/modules/preprocessing.html\n",
      "Please also refer to the documentation for alternative solver options:\n",
      "    https://scikit-learn.org/stable/modules/linear_model.html#logistic-regression\n",
      "  n_iter_i = _check_optimize_result(\n",
      "c:\\users\\admin\\appdata\\local\\programs\\python\\python38-32\\lib\\site-packages\\sklearn\\linear_model\\_logistic.py:763: ConvergenceWarning: lbfgs failed to converge (status=1):\n",
      "STOP: TOTAL NO. of ITERATIONS REACHED LIMIT.\n",
      "\n",
      "Increase the number of iterations (max_iter) or scale the data as shown in:\n",
      "    https://scikit-learn.org/stable/modules/preprocessing.html\n",
      "Please also refer to the documentation for alternative solver options:\n",
      "    https://scikit-learn.org/stable/modules/linear_model.html#logistic-regression\n",
      "  n_iter_i = _check_optimize_result(\n",
      "c:\\users\\admin\\appdata\\local\\programs\\python\\python38-32\\lib\\site-packages\\sklearn\\linear_model\\_logistic.py:763: ConvergenceWarning: lbfgs failed to converge (status=1):\n",
      "STOP: TOTAL NO. of ITERATIONS REACHED LIMIT.\n",
      "\n",
      "Increase the number of iterations (max_iter) or scale the data as shown in:\n",
      "    https://scikit-learn.org/stable/modules/preprocessing.html\n",
      "Please also refer to the documentation for alternative solver options:\n",
      "    https://scikit-learn.org/stable/modules/linear_model.html#logistic-regression\n",
      "  n_iter_i = _check_optimize_result(\n",
      "c:\\users\\admin\\appdata\\local\\programs\\python\\python38-32\\lib\\site-packages\\sklearn\\linear_model\\_logistic.py:763: ConvergenceWarning: lbfgs failed to converge (status=1):\n",
      "STOP: TOTAL NO. of ITERATIONS REACHED LIMIT.\n",
      "\n",
      "Increase the number of iterations (max_iter) or scale the data as shown in:\n",
      "    https://scikit-learn.org/stable/modules/preprocessing.html\n",
      "Please also refer to the documentation for alternative solver options:\n",
      "    https://scikit-learn.org/stable/modules/linear_model.html#logistic-regression\n",
      "  n_iter_i = _check_optimize_result(\n",
      "c:\\users\\admin\\appdata\\local\\programs\\python\\python38-32\\lib\\site-packages\\sklearn\\linear_model\\_logistic.py:763: ConvergenceWarning: lbfgs failed to converge (status=1):\n",
      "STOP: TOTAL NO. of ITERATIONS REACHED LIMIT.\n",
      "\n",
      "Increase the number of iterations (max_iter) or scale the data as shown in:\n",
      "    https://scikit-learn.org/stable/modules/preprocessing.html\n",
      "Please also refer to the documentation for alternative solver options:\n",
      "    https://scikit-learn.org/stable/modules/linear_model.html#logistic-regression\n",
      "  n_iter_i = _check_optimize_result(\n",
      "c:\\users\\admin\\appdata\\local\\programs\\python\\python38-32\\lib\\site-packages\\sklearn\\linear_model\\_logistic.py:763: ConvergenceWarning: lbfgs failed to converge (status=1):\n",
      "STOP: TOTAL NO. of ITERATIONS REACHED LIMIT.\n",
      "\n",
      "Increase the number of iterations (max_iter) or scale the data as shown in:\n",
      "    https://scikit-learn.org/stable/modules/preprocessing.html\n",
      "Please also refer to the documentation for alternative solver options:\n",
      "    https://scikit-learn.org/stable/modules/linear_model.html#logistic-regression\n",
      "  n_iter_i = _check_optimize_result(\n",
      "c:\\users\\admin\\appdata\\local\\programs\\python\\python38-32\\lib\\site-packages\\sklearn\\linear_model\\_logistic.py:763: ConvergenceWarning: lbfgs failed to converge (status=1):\n",
      "STOP: TOTAL NO. of ITERATIONS REACHED LIMIT.\n",
      "\n",
      "Increase the number of iterations (max_iter) or scale the data as shown in:\n",
      "    https://scikit-learn.org/stable/modules/preprocessing.html\n",
      "Please also refer to the documentation for alternative solver options:\n",
      "    https://scikit-learn.org/stable/modules/linear_model.html#logistic-regression\n",
      "  n_iter_i = _check_optimize_result(\n",
      "c:\\users\\admin\\appdata\\local\\programs\\python\\python38-32\\lib\\site-packages\\sklearn\\linear_model\\_logistic.py:763: ConvergenceWarning: lbfgs failed to converge (status=1):\n",
      "STOP: TOTAL NO. of ITERATIONS REACHED LIMIT.\n",
      "\n",
      "Increase the number of iterations (max_iter) or scale the data as shown in:\n",
      "    https://scikit-learn.org/stable/modules/preprocessing.html\n",
      "Please also refer to the documentation for alternative solver options:\n",
      "    https://scikit-learn.org/stable/modules/linear_model.html#logistic-regression\n",
      "  n_iter_i = _check_optimize_result(\n",
      "c:\\users\\admin\\appdata\\local\\programs\\python\\python38-32\\lib\\site-packages\\sklearn\\linear_model\\_logistic.py:763: ConvergenceWarning: lbfgs failed to converge (status=1):\n",
      "STOP: TOTAL NO. of ITERATIONS REACHED LIMIT.\n",
      "\n",
      "Increase the number of iterations (max_iter) or scale the data as shown in:\n",
      "    https://scikit-learn.org/stable/modules/preprocessing.html\n",
      "Please also refer to the documentation for alternative solver options:\n",
      "    https://scikit-learn.org/stable/modules/linear_model.html#logistic-regression\n",
      "  n_iter_i = _check_optimize_result(\n",
      "c:\\users\\admin\\appdata\\local\\programs\\python\\python38-32\\lib\\site-packages\\sklearn\\linear_model\\_logistic.py:763: ConvergenceWarning: lbfgs failed to converge (status=1):\n",
      "STOP: TOTAL NO. of ITERATIONS REACHED LIMIT.\n",
      "\n",
      "Increase the number of iterations (max_iter) or scale the data as shown in:\n",
      "    https://scikit-learn.org/stable/modules/preprocessing.html\n",
      "Please also refer to the documentation for alternative solver options:\n",
      "    https://scikit-learn.org/stable/modules/linear_model.html#logistic-regression\n",
      "  n_iter_i = _check_optimize_result(\n",
      "c:\\users\\admin\\appdata\\local\\programs\\python\\python38-32\\lib\\site-packages\\sklearn\\linear_model\\_logistic.py:763: ConvergenceWarning: lbfgs failed to converge (status=1):\n",
      "STOP: TOTAL NO. of ITERATIONS REACHED LIMIT.\n",
      "\n",
      "Increase the number of iterations (max_iter) or scale the data as shown in:\n",
      "    https://scikit-learn.org/stable/modules/preprocessing.html\n",
      "Please also refer to the documentation for alternative solver options:\n",
      "    https://scikit-learn.org/stable/modules/linear_model.html#logistic-regression\n",
      "  n_iter_i = _check_optimize_result(\n",
      "c:\\users\\admin\\appdata\\local\\programs\\python\\python38-32\\lib\\site-packages\\sklearn\\linear_model\\_logistic.py:763: ConvergenceWarning: lbfgs failed to converge (status=1):\n",
      "STOP: TOTAL NO. of ITERATIONS REACHED LIMIT.\n",
      "\n",
      "Increase the number of iterations (max_iter) or scale the data as shown in:\n",
      "    https://scikit-learn.org/stable/modules/preprocessing.html\n",
      "Please also refer to the documentation for alternative solver options:\n",
      "    https://scikit-learn.org/stable/modules/linear_model.html#logistic-regression\n",
      "  n_iter_i = _check_optimize_result(\n"
     ]
    },
    {
     "name": "stdout",
     "output_type": "stream",
     "text": [
      "[False  True  True False  True False False False False  True  True  True\n",
      " False  True False  True  True  True  True  True False  True  True  True\n",
      "  True False  True False False False  True  True  True]\n",
      "[ 2  1  1  7  1 10  5  6 12  1  1  1  4  1 11  1  1  1  1  1 13  1  1  1\n",
      "  1  8  1 14  3  9  1  1  1]\n"
     ]
    },
    {
     "name": "stderr",
     "output_type": "stream",
     "text": [
      "c:\\users\\admin\\appdata\\local\\programs\\python\\python38-32\\lib\\site-packages\\sklearn\\linear_model\\_logistic.py:763: ConvergenceWarning: lbfgs failed to converge (status=1):\n",
      "STOP: TOTAL NO. of ITERATIONS REACHED LIMIT.\n",
      "\n",
      "Increase the number of iterations (max_iter) or scale the data as shown in:\n",
      "    https://scikit-learn.org/stable/modules/preprocessing.html\n",
      "Please also refer to the documentation for alternative solver options:\n",
      "    https://scikit-learn.org/stable/modules/linear_model.html#logistic-regression\n",
      "  n_iter_i = _check_optimize_result(\n"
     ]
    }
   ],
   "source": [
    "data_final_vars=data.columns.values.tolist()\n",
    "y=['Top10']\n",
    "X=[i for i in data_final_vars if i not in y]\n",
    "from sklearn.feature_selection import RFE\n",
    "from sklearn.linear_model import LogisticRegression\n",
    "logreg = LogisticRegression()\n",
    "rfe = RFE(logreg, 20)\n",
    "rfe = rfe.fit(os_data_X, os_data_y.values.ravel())\n",
    "print(rfe.support_)\n",
    "print(rfe.ranking_)"
   ]
  },
  {
   "cell_type": "code",
   "execution_count": 144,
   "metadata": {
    "colab": {
     "base_uri": "https://localhost:8080/"
    },
    "id": "h-zX4BTBwFDz",
    "outputId": "93a081b3-01a8-40f5-e19a-fc922011a5d0"
   },
   "outputs": [
    {
     "name": "stdout",
     "output_type": "stream",
     "text": [
      "Index(['timesignature', 'timesignature_confidence', 'loudness', 'tempo',\n",
      "       'tempo_confidence', 'key', 'key_confidence', 'energy', 'pitch',\n",
      "       'timbre_0_min', 'timbre_0_max', 'timbre_1_min', 'timbre_1_max',\n",
      "       'timbre_2_min', 'timbre_2_max', 'timbre_3_min', 'timbre_3_max',\n",
      "       'timbre_4_min', 'timbre_4_max', 'timbre_5_min', 'timbre_5_max',\n",
      "       'timbre_6_min', 'timbre_6_max', 'timbre_7_min', 'timbre_7_max',\n",
      "       'timbre_8_min', 'timbre_8_max', 'timbre_9_min', 'timbre_9_max',\n",
      "       'timbre_10_min', 'timbre_10_max', 'timbre_11_min', 'timbre_11_max',\n",
      "       'Top10'],\n",
      "      dtype='object')\n"
     ]
    },
    {
     "data": {
      "text/plain": [
       "(7574, 34)"
      ]
     },
     "execution_count": 144,
     "metadata": {},
     "output_type": "execute_result"
    }
   ],
   "source": [
    "print(data.columns)\n",
    "data.shape"
   ]
  },
  {
   "cell_type": "code",
   "execution_count": 145,
   "metadata": {
    "id": "3oRe3aMbuOxl"
   },
   "outputs": [
    {
     "name": "stdout",
     "output_type": "stream",
     "text": [
      "(9706, 20)\n"
     ]
    }
   ],
   "source": [
    "cols=['timesignature', 'timesignature_confidence', 'loudness', 'tempo_confidence', 'key', 'timbre_0_min', 'timbre_0_max', \n",
    "      'timbre_1_min', 'timbre_3_max', 'timbre_4_min', 'timbre_4_max', 'timbre_5_min', 'timbre_6_min', 'timbre_6_max', 'timbre_7_min', 'timbre_7_max',\n",
    "      'timbre_8_max', 'timbre_10_max', 'timbre_11_min', 'timbre_11_max'] \n",
    "X=os_data_X[cols]\n",
    "print(X.shape)\n",
    "y=os_data_y['Top10']"
   ]
  },
  {
   "cell_type": "code",
   "execution_count": 146,
   "metadata": {},
   "outputs": [
    {
     "name": "stdout",
     "output_type": "stream",
     "text": [
      "(1894, 20)\n",
      "(1894, 1)\n"
     ]
    }
   ],
   "source": [
    "cols=['timesignature', 'timesignature_confidence', 'loudness', 'tempo_confidence', 'key', 'timbre_0_min', 'timbre_0_max', \n",
    "      'timbre_1_min', 'timbre_3_max', 'timbre_4_min', 'timbre_4_max', 'timbre_5_min', 'timbre_6_min', 'timbre_6_max', 'timbre_7_min', 'timbre_7_max',\n",
    "      'timbre_8_max', 'timbre_10_max', 'timbre_11_min', 'timbre_11_max'] \n",
    "X_test=X_test[cols]\n",
    "print(X_test.shape)\n",
    "print(y_test.shape)"
   ]
  },
  {
   "cell_type": "code",
   "execution_count": 147,
   "metadata": {},
   "outputs": [],
   "source": [
    "from sklearn.preprocessing import StandardScaler\n",
    "sc_x = StandardScaler()\n",
    "xtrain = sc_x.fit_transform(X)\n",
    "xtest = sc_x.transform(X_test)"
   ]
  },
  {
   "cell_type": "code",
   "execution_count": 148,
   "metadata": {
    "colab": {
     "base_uri": "https://localhost:8080/"
    },
    "id": "ygPWXRPlyiUG",
    "outputId": "a4d2fd7a-ac3d-4c50-9367-dbbb5387a3f8"
   },
   "outputs": [
    {
     "name": "stdout",
     "output_type": "stream",
     "text": [
      "Optimization terminated successfully.\n",
      "         Current function value: 0.531638\n",
      "         Iterations 6\n",
      "                             Results: Logit\n",
      "=========================================================================\n",
      "Model:                  Logit              Pseudo R-squared:   0.233     \n",
      "Dependent Variable:     Top10              AIC:                10360.1501\n",
      "Date:                   2021-05-05 22:18   BIC:                10503.7601\n",
      "No. Observations:       9706               Log-Likelihood:     -5160.1   \n",
      "Df Model:               19                 LL-Null:            -6727.7   \n",
      "Df Residuals:           9686               LLR p-value:        0.0000    \n",
      "Converged:              1.0000             Scale:              1.0000    \n",
      "No. Iterations:         6.0000                                           \n",
      "-------------------------------------------------------------------------\n",
      "                          Coef.  Std.Err.    z     P>|z|   [0.025  0.975]\n",
      "-------------------------------------------------------------------------\n",
      "timesignature            -0.0804   0.0550  -1.4620 0.1437 -0.1881  0.0274\n",
      "timesignature_confidence  1.3977   0.1371  10.1956 0.0000  1.1290  1.6664\n",
      "loudness                  0.0712   0.0068  10.4157 0.0000  0.0578  0.0846\n",
      "tempo_confidence          0.6042   0.0930   6.4943 0.0000  0.4219  0.7865\n",
      "key                       0.0044   0.0073   0.5986 0.5495 -0.0099  0.0187\n",
      "timbre_0_min              0.0303   0.0029  10.3564 0.0000  0.0246  0.0361\n",
      "timbre_0_max             -0.1414   0.0049 -28.9840 0.0000 -0.1509 -0.1318\n",
      "timbre_1_min              0.0053   0.0004  11.9025 0.0000  0.0044  0.0062\n",
      "timbre_3_max             -0.0036   0.0003 -11.0064 0.0000 -0.0042 -0.0029\n",
      "timbre_4_min              0.0113   0.0014   8.3184 0.0000  0.0087  0.0140\n",
      "timbre_4_max              0.0082   0.0010   8.0597 0.0000  0.0062  0.0102\n",
      "timbre_5_min             -0.0071   0.0008  -8.7793 0.0000 -0.0087 -0.0055\n",
      "timbre_6_min             -0.0240   0.0016 -14.7760 0.0000 -0.0272 -0.0208\n",
      "timbre_6_max              0.0072   0.0015   4.7485 0.0000  0.0042  0.0101\n",
      "timbre_7_min             -0.0058   0.0011  -5.0588 0.0000 -0.0081 -0.0036\n",
      "timbre_7_max             -0.0042   0.0012  -3.4608 0.0005 -0.0066 -0.0018\n",
      "timbre_8_max              0.0113   0.0021   5.3274 0.0000  0.0072  0.0155\n",
      "timbre_10_max             0.0092   0.0012   7.7291 0.0000  0.0069  0.0115\n",
      "timbre_11_min            -0.0392   0.0026 -14.9612 0.0000 -0.0443 -0.0340\n",
      "timbre_11_max             0.0250   0.0025  10.1175 0.0000  0.0202  0.0299\n",
      "=========================================================================\n",
      "\n"
     ]
    }
   ],
   "source": [
    "import statsmodels.api as sm\n",
    "logit_model=sm.Logit(y,X)\n",
    "result=logit_model.fit()\n",
    "print(result.summary2())"
   ]
  },
  {
   "cell_type": "code",
   "execution_count": 149,
   "metadata": {
    "colab": {
     "base_uri": "https://localhost:8080/"
    },
    "id": "aezbk4B8ym4p",
    "outputId": "c62d7fe8-8cae-4d13-b945-ad15a0c6079e"
   },
   "outputs": [
    {
     "data": {
      "text/plain": [
       "LogisticRegression(max_iter=2000)"
      ]
     },
     "execution_count": 149,
     "metadata": {},
     "output_type": "execute_result"
    }
   ],
   "source": [
    "from sklearn.linear_model import LogisticRegression\n",
    "from sklearn import metrics\n",
    "X_train, X_test, y_train, y_test = train_test_split(xtrain, y, test_size=0.25, random_state=0)\n",
    "logreg = LogisticRegression(max_iter = 2000)\n",
    "logreg.fit(X_train, y_train)"
   ]
  },
  {
   "cell_type": "code",
   "execution_count": 151,
   "metadata": {
    "colab": {
     "base_uri": "https://localhost:8080/"
    },
    "id": "4fooFbBFyzo6",
    "outputId": "57af0a65-43ec-42b9-8f93-0150519804fd"
   },
   "outputs": [
    {
     "name": "stdout",
     "output_type": "stream",
     "text": [
      "Accuracy of logistic regression classifier on test set: 0.727235\n"
     ]
    }
   ],
   "source": [
    "y_pred = logreg.predict(X_test)\n",
    "print('Accuracy of logistic regression classifier on test set: {:.6f}'.format(logreg.score(X_test, y_test)))"
   ]
  },
  {
   "cell_type": "code",
   "execution_count": 154,
   "metadata": {},
   "outputs": [
    {
     "name": "stdout",
     "output_type": "stream",
     "text": [
      "[[850 324]\n",
      " [338 915]]\n"
     ]
    },
    {
     "data": {
      "image/png": "[encoded data removed]",
      "text/plain": [
       "<Figure size 432x288 with 2 Axes>"
      ]
     },
     "metadata": {},
     "output_type": "display_data"
    }
   ],
   "source": [
    "from sklearn.metrics import confusion_matrix\n",
    "from sklearn.metrics import plot_confusion_matrix\n",
    "confusion_matrix = confusion_matrix(y_test, y_pred)\n",
    "print(confusion_matrix)\n",
    "\n",
    "plot = plot_confusion_matrix(logreg, X_test, y_test)"
   ]
  },
  {
   "cell_type": "code",
   "execution_count": 126,
   "metadata": {},
   "outputs": [
    {
     "name": "stdout",
     "output_type": "stream",
     "text": [
      "0.7273730684326711\n"
     ]
    }
   ],
   "source": [
    "print((332+327)/(659+134+113))"
   ]
  },
  {
   "cell_type": "code",
   "execution_count": 150,
   "metadata": {},
   "outputs": [
    {
     "name": "stdout",
     "output_type": "stream",
     "text": [
      "Accuracy of logistic regression classifier on test set: 0.745982\n"
     ]
    }
   ],
   "source": [
    "#Accuracy on Training Set\n",
    "\n",
    "y_pred = logreg.predict(X_train)\n",
    "print('Accuracy of logistic regression classifier on test set: {:.6f}'.format(logreg.score(X_train, y_train)))"
   ]
  },
  {
   "cell_type": "code",
   "execution_count": null,
   "metadata": {},
   "outputs": [],
   "source": []
  }
 ],
 "metadata": {
  "colab": {
   "collapsed_sections": [],
   "name": "DAV SMOTE.ipynb",
   "provenance": []
  },
  "kernelspec": {
   "display_name": "Python 3",
   "language": "python",
   "name": "python3"
  },
  "language_info": {
   "codemirror_mode": {
    "name": "ipython",
    "version": 3
   },
   "file_extension": ".py",
   "mimetype": "text/x-python",
   "name": "python",
   "nbconvert_exporter": "python",
   "pygments_lexer": "ipython3",
   "version": "3.8.5"
  }
 },
 "nbformat": 4,
 "nbformat_minor": 1
}
